{
 "cells": [
  {
   "cell_type": "code",
   "execution_count": 1,
   "outputs": [],
   "source": [
    "from catboost import CatBoostClassifier\n",
    "import pandas as pd\n",
    "from sklearn.model_selection import train_test_split"
   ],
   "metadata": {
    "collapsed": false,
    "pycharm": {
     "name": "#%%\n"
    }
   }
  },
  {
   "cell_type": "code",
   "execution_count": 45,
   "outputs": [],
   "source": [
    "def merge_mean(df: pd.DataFrame, next_col_iter: callable) -> pd.DataFrame:\n",
    "    nd_cols = get_ndvi_columns(df)\n",
    "    tmp = df.drop(columns=nd_cols)\n",
    "\n",
    "    curr_idx = 0\n",
    "    curr_col = nd_cols[0]\n",
    "    next_col = next_col_iter(nd_cols, curr_col)\n",
    "    while next_col is not None:\n",
    "        tmp[f\"nd_mean_{curr_idx}\"] = df.loc[:, curr_col:next_col].mean(axis=1)\n",
    "        curr_col = next_col\n",
    "        next_col = next_col_iter(nd_cols, curr_col)\n",
    "        curr_idx += 1\n",
    "    return tmp\n",
    "\n",
    "def half_month(cols: list[str], curr: str):\n",
    "    next_col = None\n",
    "\n",
    "    def dm(col):\n",
    "        return tuple(map(int, col.split(\"-\")[-2:]))[::-1]\n",
    "\n",
    "    day_curr, month_curr = dm(curr)\n",
    "\n",
    "    if day_curr >= 15:\n",
    "        for c in cols:\n",
    "            if dm(c)[1] > month_curr:\n",
    "                next_col = c\n",
    "                break\n",
    "    else:\n",
    "        for c in cols:\n",
    "            d, m = dm(c)\n",
    "            if d >= 15 and m == month_curr:\n",
    "                next_col = c\n",
    "                break\n",
    "\n",
    "    if next_col is None and cols.index(curr) != len(cols) - 1:\n",
    "        return cols[-1]\n",
    "\n",
    "    return next_col\n"
   ],
   "metadata": {
    "collapsed": false,
    "pycharm": {
     "name": "#%%\n"
    }
   }
  },
  {
   "cell_type": "code",
   "execution_count": 2,
   "outputs": [],
   "source": [
    "from src.util import drop_unused_cols, get_ndvi_transformer, get_ndvi_columns"
   ],
   "metadata": {
    "collapsed": false,
    "pycharm": {
     "name": "#%%\n"
    }
   }
  },
  {
   "cell_type": "code",
   "execution_count": 3,
   "outputs": [],
   "source": [
    "DATA_DIR = \"data/\""
   ],
   "metadata": {
    "collapsed": false,
    "pycharm": {
     "name": "#%%\n"
    }
   }
  },
  {
   "cell_type": "code",
   "execution_count": 4,
   "outputs": [],
   "source": [
    "train_df = pd.read_csv(DATA_DIR + \"train_with_reg.csv\").set_index(\"id\")\n",
    "test_df = pd.read_csv(DATA_DIR + \"test_with_reg.csv\").set_index(\"id\")"
   ],
   "metadata": {
    "collapsed": false,
    "pycharm": {
     "name": "#%%\n"
    }
   }
  },
  {
   "cell_type": "code",
   "execution_count": 46,
   "outputs": [],
   "source": [
    "# train_df = merge_mean(train_df, half_month)\n",
    "# test_df = merge_mean(test_df, half_month)"
   ],
   "metadata": {
    "collapsed": false,
    "pycharm": {
     "name": "#%%\n"
    }
   }
  },
  {
   "cell_type": "code",
   "execution_count": 5,
   "outputs": [],
   "source": [
    "def ndvi_to_int(ndvi: float) -> int:\n",
    "    if ndvi <= 0:\n",
    "        return 0\n",
    "    if ndvi <= 0.2:\n",
    "        return 1\n",
    "    if ndvi <= 0.4:\n",
    "        return 3\n",
    "    if ndvi <= 0.6:\n",
    "        return 4\n",
    "    return 5\n",
    "\n",
    "train_df[get_ndvi_columns(train_df)] = train_df[get_ndvi_columns(train_df)].applymap(ndvi_to_int)\n",
    "test_df[get_ndvi_columns(test_df)] = test_df[get_ndvi_columns(test_df)].applymap(ndvi_to_int)"
   ],
   "metadata": {
    "collapsed": false,
    "pycharm": {
     "name": "#%%\n"
    }
   }
  },
  {
   "cell_type": "code",
   "execution_count": 6,
   "metadata": {
    "pycharm": {
     "name": "#%%\n"
    }
   },
   "outputs": [],
   "source": [
    "X = drop_unused_cols(train_df).drop([\"crop\"], axis=1)\n",
    "y = train_df.crop.ravel()"
   ]
  },
  {
   "cell_type": "code",
   "execution_count": 7,
   "metadata": {
    "pycharm": {
     "name": "#%%\n"
    }
   },
   "outputs": [],
   "source": [
    "X_train, X_test, y_train, y_test = train_test_split(X, y, test_size=0.3, random_state=42)"
   ]
  },
  {
   "cell_type": "code",
   "execution_count": 85,
   "metadata": {
    "pycharm": {
     "name": "#%%\n"
    }
   },
   "outputs": [
    {
     "data": {
      "text/plain": "      nd_mean_2021-04-15  nd_mean_2021-04-16  nd_mean_2021-04-18  \\\nid                                                                 \n5602                   3                   3                   3   \n5379                   3                   3                   3   \n3017                   3                   1                   3   \n2468                   3                   3                   3   \n3654                   3                   3                   3   \n\n      nd_mean_2021-04-19  nd_mean_2021-04-20  nd_mean_2021-04-22  \\\nid                                                                 \n5602                   3                   3                   3   \n5379                   3                   3                   1   \n3017                   1                   4                   3   \n2468                   3                   1                   3   \n3654                   3                   3                   1   \n\n      nd_mean_2021-04-23  nd_mean_2021-04-25  nd_mean_2021-04-26  \\\nid                                                                 \n5602                   3                   3                   3   \n5379                   1                   1                   1   \n3017                   1                   3                   1   \n2468                   1                   1                   3   \n3654                   3                   1                   3   \n\n      nd_mean_2021-04-27  ...  nd_mean_2021-07-29  nd_mean_2021-07-31  \\\nid                        ...                                           \n5602                   1  ...                   1                   1   \n5379                   1  ...                   1                   1   \n3017                   3  ...                   5                   4   \n2468                   1  ...                   5                   4   \n3654                   1  ...                   5                   3   \n\n      nd_mean_2021-08-01  nd_mean_2021-08-07  nd_mean_2021-08-10  \\\nid                                                                 \n5602                   1                   1                   1   \n5379                   1                   1                   3   \n3017                   4                   4                   4   \n2468                   5                   4                   1   \n3654                   5                   5                   4   \n\n      nd_mean_2021-08-11  nd_mean_2021-08-12  nd_mean_2021-08-13  \\\nid                                                                 \n5602                   4                   4                   1   \n5379                   5                   5                   3   \n3017                   3                   4                   1   \n2468                   1                   4                   1   \n3654                   4                   4                   1   \n\n      nd_mean_2021-08-23  nd_mean_2021-08-27  \nid                                            \n5602                   4                   4  \n5379                   1                   4  \n3017                   1                   1  \n2468                   1                   1  \n3654                   1                   1  \n\n[5 rows x 70 columns]",
      "text/html": "<div>\n<style scoped>\n    .dataframe tbody tr th:only-of-type {\n        vertical-align: middle;\n    }\n\n    .dataframe tbody tr th {\n        vertical-align: top;\n    }\n\n    .dataframe thead th {\n        text-align: right;\n    }\n</style>\n<table border=\"1\" class=\"dataframe\">\n  <thead>\n    <tr style=\"text-align: right;\">\n      <th></th>\n      <th>nd_mean_2021-04-15</th>\n      <th>nd_mean_2021-04-16</th>\n      <th>nd_mean_2021-04-18</th>\n      <th>nd_mean_2021-04-19</th>\n      <th>nd_mean_2021-04-20</th>\n      <th>nd_mean_2021-04-22</th>\n      <th>nd_mean_2021-04-23</th>\n      <th>nd_mean_2021-04-25</th>\n      <th>nd_mean_2021-04-26</th>\n      <th>nd_mean_2021-04-27</th>\n      <th>...</th>\n      <th>nd_mean_2021-07-29</th>\n      <th>nd_mean_2021-07-31</th>\n      <th>nd_mean_2021-08-01</th>\n      <th>nd_mean_2021-08-07</th>\n      <th>nd_mean_2021-08-10</th>\n      <th>nd_mean_2021-08-11</th>\n      <th>nd_mean_2021-08-12</th>\n      <th>nd_mean_2021-08-13</th>\n      <th>nd_mean_2021-08-23</th>\n      <th>nd_mean_2021-08-27</th>\n    </tr>\n    <tr>\n      <th>id</th>\n      <th></th>\n      <th></th>\n      <th></th>\n      <th></th>\n      <th></th>\n      <th></th>\n      <th></th>\n      <th></th>\n      <th></th>\n      <th></th>\n      <th></th>\n      <th></th>\n      <th></th>\n      <th></th>\n      <th></th>\n      <th></th>\n      <th></th>\n      <th></th>\n      <th></th>\n      <th></th>\n      <th></th>\n    </tr>\n  </thead>\n  <tbody>\n    <tr>\n      <th>5602</th>\n      <td>3</td>\n      <td>3</td>\n      <td>3</td>\n      <td>3</td>\n      <td>3</td>\n      <td>3</td>\n      <td>3</td>\n      <td>3</td>\n      <td>3</td>\n      <td>1</td>\n      <td>...</td>\n      <td>1</td>\n      <td>1</td>\n      <td>1</td>\n      <td>1</td>\n      <td>1</td>\n      <td>4</td>\n      <td>4</td>\n      <td>1</td>\n      <td>4</td>\n      <td>4</td>\n    </tr>\n    <tr>\n      <th>5379</th>\n      <td>3</td>\n      <td>3</td>\n      <td>3</td>\n      <td>3</td>\n      <td>3</td>\n      <td>1</td>\n      <td>1</td>\n      <td>1</td>\n      <td>1</td>\n      <td>1</td>\n      <td>...</td>\n      <td>1</td>\n      <td>1</td>\n      <td>1</td>\n      <td>1</td>\n      <td>3</td>\n      <td>5</td>\n      <td>5</td>\n      <td>3</td>\n      <td>1</td>\n      <td>4</td>\n    </tr>\n    <tr>\n      <th>3017</th>\n      <td>3</td>\n      <td>1</td>\n      <td>3</td>\n      <td>1</td>\n      <td>4</td>\n      <td>3</td>\n      <td>1</td>\n      <td>3</td>\n      <td>1</td>\n      <td>3</td>\n      <td>...</td>\n      <td>5</td>\n      <td>4</td>\n      <td>4</td>\n      <td>4</td>\n      <td>4</td>\n      <td>3</td>\n      <td>4</td>\n      <td>1</td>\n      <td>1</td>\n      <td>1</td>\n    </tr>\n    <tr>\n      <th>2468</th>\n      <td>3</td>\n      <td>3</td>\n      <td>3</td>\n      <td>3</td>\n      <td>1</td>\n      <td>3</td>\n      <td>1</td>\n      <td>1</td>\n      <td>3</td>\n      <td>1</td>\n      <td>...</td>\n      <td>5</td>\n      <td>4</td>\n      <td>5</td>\n      <td>4</td>\n      <td>1</td>\n      <td>1</td>\n      <td>4</td>\n      <td>1</td>\n      <td>1</td>\n      <td>1</td>\n    </tr>\n    <tr>\n      <th>3654</th>\n      <td>3</td>\n      <td>3</td>\n      <td>3</td>\n      <td>3</td>\n      <td>3</td>\n      <td>1</td>\n      <td>3</td>\n      <td>1</td>\n      <td>3</td>\n      <td>1</td>\n      <td>...</td>\n      <td>5</td>\n      <td>3</td>\n      <td>5</td>\n      <td>5</td>\n      <td>4</td>\n      <td>4</td>\n      <td>4</td>\n      <td>1</td>\n      <td>1</td>\n      <td>1</td>\n    </tr>\n  </tbody>\n</table>\n<p>5 rows × 70 columns</p>\n</div>"
     },
     "execution_count": 85,
     "metadata": {},
     "output_type": "execute_result"
    }
   ],
   "source": [
    "X_train.head()"
   ]
  },
  {
   "cell_type": "code",
   "execution_count": 8,
   "metadata": {
    "pycharm": {
     "name": "#%%\n"
    }
   },
   "outputs": [
    {
     "name": "stdout",
     "output_type": "stream",
     "text": [
      "[0, 1, 2, 3, 4, 5, 6, 7, 8, 9, 10, 11, 12, 13, 14, 15, 16, 17, 18, 19, 20, 21, 22, 23, 24, 25, 26, 27, 28, 29, 30, 31, 32, 33, 34, 35, 36, 37, 38, 39, 40, 41, 42, 43, 44, 45, 46, 47, 48, 49, 50, 51, 52, 53, 54, 55, 56, 57, 58, 59, 60, 61, 62, 63, 64, 65, 66, 67, 68, 69, 70]\n"
     ]
    }
   ],
   "source": [
    "cat_features = list(range(0, X.shape[1]))\n",
    "print(cat_features)"
   ]
  },
  {
   "cell_type": "code",
   "execution_count": null,
   "metadata": {
    "pycharm": {
     "name": "#%%\n",
     "is_executing": true
    }
   },
   "outputs": [
    {
     "name": "stderr",
     "output_type": "stream",
     "text": [
      "/home/eugen/PycharmProjects/inno-ndvi/venv/lib/python3.10/site-packages/catboost/core.py:1419: FutureWarning: iteritems is deprecated and will be removed in a future version. Use .items instead.\n",
      "  self._init_pool(data, label, cat_features, text_features, embedding_features, embedding_features_data, pairs, weight,\n"
     ]
    },
    {
     "name": "stdout",
     "output_type": "stream",
     "text": [
      "0:\tlearn: 0.5912452\ttest: 0.6356108\tbest: 0.6356108 (0)\ttotal: 908ms\tremaining: 15m 6s\n",
      "1:\tlearn: 0.6279207\ttest: 0.6507937\tbest: 0.6507937 (1)\ttotal: 1.93s\tremaining: 16m 3s\n",
      "2:\tlearn: 0.6382727\ttest: 0.6625259\tbest: 0.6625259 (2)\ttotal: 2.79s\tremaining: 15m 26s\n",
      "3:\tlearn: 0.6577936\ttest: 0.6818496\tbest: 0.6818496 (3)\ttotal: 3.66s\tremaining: 15m 12s\n",
      "4:\tlearn: 0.6879621\ttest: 0.6984127\tbest: 0.6984127 (4)\ttotal: 4.51s\tremaining: 14m 57s\n",
      "5:\tlearn: 0.6944691\ttest: 0.6977226\tbest: 0.6984127 (4)\ttotal: 5.35s\tremaining: 14m 45s\n",
      "6:\tlearn: 0.7039337\ttest: 0.7122153\tbest: 0.7122153 (6)\ttotal: 6.22s\tremaining: 14m 42s\n",
      "7:\tlearn: 0.7187223\ttest: 0.7170462\tbest: 0.7170462 (7)\ttotal: 7.04s\tremaining: 14m 33s\n",
      "8:\tlearn: 0.7338066\ttest: 0.7377502\tbest: 0.7377502 (8)\ttotal: 7.91s\tremaining: 14m 31s\n",
      "9:\tlearn: 0.7438628\ttest: 0.7425811\tbest: 0.7425811 (9)\ttotal: 8.71s\tremaining: 14m 22s\n",
      "10:\tlearn: 0.7488909\ttest: 0.7418910\tbest: 0.7425811 (9)\ttotal: 9.5s\tremaining: 14m 13s\n",
      "11:\tlearn: 0.7488909\ttest: 0.7487923\tbest: 0.7487923 (11)\ttotal: 10.4s\tremaining: 14m 15s\n",
      "12:\tlearn: 0.7562851\ttest: 0.7529331\tbest: 0.7529331 (12)\ttotal: 11.4s\tremaining: 14m 26s\n",
      "13:\tlearn: 0.7642709\ttest: 0.7591442\tbest: 0.7591442 (13)\ttotal: 12.3s\tremaining: 14m 27s\n",
      "14:\tlearn: 0.7743271\ttest: 0.7681159\tbest: 0.7681159 (14)\ttotal: 13.1s\tremaining: 14m 23s\n",
      "15:\tlearn: 0.7864537\ttest: 0.7798482\tbest: 0.7798482 (15)\ttotal: 14s\tremaining: 14m 22s\n",
      "16:\tlearn: 0.7953268\ttest: 0.7860594\tbest: 0.7860594 (16)\ttotal: 14.9s\tremaining: 14m 22s\n",
      "17:\tlearn: 0.8071576\ttest: 0.8019324\tbest: 0.8019324 (17)\ttotal: 15.8s\tremaining: 14m 22s\n",
      "18:\tlearn: 0.8130731\ttest: 0.8088337\tbest: 0.8088337 (18)\ttotal: 16.6s\tremaining: 14m 18s\n",
      "19:\tlearn: 0.8154392\ttest: 0.8150449\tbest: 0.8150449 (19)\ttotal: 17.5s\tremaining: 14m 16s\n",
      "20:\tlearn: 0.8219462\ttest: 0.8205659\tbest: 0.8205659 (20)\ttotal: 18.3s\tremaining: 14m 14s\n",
      "21:\tlearn: 0.8249039\ttest: 0.8247067\tbest: 0.8247067 (21)\ttotal: 19.2s\tremaining: 14m 13s\n",
      "22:\tlearn: 0.8346643\ttest: 0.8302277\tbest: 0.8302277 (22)\ttotal: 20.1s\tremaining: 14m 14s\n",
      "23:\tlearn: 0.8379178\ttest: 0.8336784\tbest: 0.8336784 (23)\ttotal: 21.1s\tremaining: 14m 16s\n",
      "24:\tlearn: 0.8426501\ttest: 0.8378192\tbest: 0.8378192 (24)\ttotal: 22s\tremaining: 14m 17s\n",
      "25:\tlearn: 0.8447205\ttest: 0.8447205\tbest: 0.8447205 (25)\ttotal: 22.9s\tremaining: 14m 16s\n",
      "26:\tlearn: 0.8503401\ttest: 0.8426501\tbest: 0.8447205 (25)\ttotal: 23.7s\tremaining: 14m 13s\n",
      "27:\tlearn: 0.8509317\ttest: 0.8433402\tbest: 0.8447205 (25)\ttotal: 24.6s\tremaining: 14m 13s\n",
      "28:\tlearn: 0.8571429\ttest: 0.8488613\tbest: 0.8488613 (28)\ttotal: 25.5s\tremaining: 14m 12s\n",
      "29:\tlearn: 0.8627625\ttest: 0.8578330\tbest: 0.8578330 (29)\ttotal: 26.3s\tremaining: 14m 10s\n",
      "30:\tlearn: 0.8663117\ttest: 0.8585231\tbest: 0.8585231 (30)\ttotal: 27.2s\tremaining: 14m 8s\n",
      "31:\tlearn: 0.8719314\ttest: 0.8592133\tbest: 0.8592133 (31)\ttotal: 28s\tremaining: 14m 7s\n",
      "32:\tlearn: 0.8734102\ttest: 0.8612836\tbest: 0.8612836 (32)\ttotal: 28.9s\tremaining: 14m 8s\n",
      "33:\tlearn: 0.8775510\ttest: 0.8633540\tbest: 0.8633540 (33)\ttotal: 29.8s\tremaining: 14m 5s\n",
      "34:\tlearn: 0.8784383\ttest: 0.8640442\tbest: 0.8640442 (34)\ttotal: 30.6s\tremaining: 14m 3s\n",
      "35:\tlearn: 0.8808045\ttest: 0.8674948\tbest: 0.8674948 (35)\ttotal: 31.4s\tremaining: 14m 1s\n",
      "36:\tlearn: 0.8828749\ttest: 0.8674948\tbest: 0.8674948 (35)\ttotal: 32.2s\tremaining: 13m 58s\n",
      "37:\tlearn: 0.8816918\ttest: 0.8702553\tbest: 0.8702553 (37)\ttotal: 33s\tremaining: 13m 56s\n",
      "38:\tlearn: 0.8852411\ttest: 0.8695652\tbest: 0.8702553 (37)\ttotal: 33.9s\tremaining: 13m 54s\n",
      "39:\tlearn: 0.8879030\ttest: 0.8709455\tbest: 0.8709455 (39)\ttotal: 34.8s\tremaining: 13m 54s\n",
      "40:\tlearn: 0.8887903\ttest: 0.8757764\tbest: 0.8757764 (40)\ttotal: 35.8s\tremaining: 13m 57s\n",
      "41:\tlearn: 0.8920438\ttest: 0.8792271\tbest: 0.8792271 (41)\ttotal: 36.8s\tremaining: 13m 58s\n",
      "42:\tlearn: 0.8947057\ttest: 0.8799172\tbest: 0.8799172 (42)\ttotal: 37.7s\tremaining: 14m\n",
      "43:\tlearn: 0.8970719\ttest: 0.8799172\tbest: 0.8799172 (42)\ttotal: 38.7s\tremaining: 13m 59s\n",
      "44:\tlearn: 0.8985507\ttest: 0.8806073\tbest: 0.8806073 (44)\ttotal: 39.6s\tremaining: 13m 59s\n",
      "45:\tlearn: 0.8991423\ttest: 0.8812974\tbest: 0.8812974 (45)\ttotal: 40.5s\tremaining: 14m\n",
      "46:\tlearn: 0.9000296\ttest: 0.8812974\tbest: 0.8812974 (45)\ttotal: 41.4s\tremaining: 14m\n",
      "47:\tlearn: 0.9012127\ttest: 0.8812974\tbest: 0.8812974 (45)\ttotal: 42.4s\tremaining: 14m 1s\n",
      "48:\tlearn: 0.9026915\ttest: 0.8840580\tbest: 0.8840580 (48)\ttotal: 43.4s\tremaining: 14m 2s\n",
      "49:\tlearn: 0.9035788\ttest: 0.8875086\tbest: 0.8875086 (49)\ttotal: 44.3s\tremaining: 14m\n",
      "50:\tlearn: 0.9038746\ttest: 0.8875086\tbest: 0.8875086 (49)\ttotal: 45.2s\tremaining: 14m\n",
      "51:\tlearn: 0.9056492\ttest: 0.8902692\tbest: 0.8902692 (51)\ttotal: 46s\tremaining: 13m 58s\n",
      "52:\tlearn: 0.9077196\ttest: 0.8930297\tbest: 0.8930297 (52)\ttotal: 46.9s\tremaining: 13m 58s\n",
      "53:\tlearn: 0.9115646\ttest: 0.8923395\tbest: 0.8930297 (52)\ttotal: 47.9s\tremaining: 13m 58s\n",
      "54:\tlearn: 0.9124519\ttest: 0.8944099\tbest: 0.8944099 (54)\ttotal: 48.8s\tremaining: 13m 58s\n",
      "55:\tlearn: 0.9121562\ttest: 0.8937198\tbest: 0.8944099 (54)\ttotal: 49.8s\tremaining: 13m 59s\n",
      "56:\tlearn: 0.9151139\ttest: 0.8923395\tbest: 0.8944099 (54)\ttotal: 50.8s\tremaining: 14m\n",
      "57:\tlearn: 0.9171843\ttest: 0.8909593\tbest: 0.8944099 (54)\ttotal: 51.7s\tremaining: 13m 59s\n",
      "58:\tlearn: 0.9207335\ttest: 0.8923395\tbest: 0.8944099 (54)\ttotal: 52.6s\tremaining: 13m 59s\n",
      "59:\tlearn: 0.9201420\ttest: 0.8944099\tbest: 0.8944099 (54)\ttotal: 53.5s\tremaining: 13m 57s\n",
      "60:\tlearn: 0.9222124\ttest: 0.8944099\tbest: 0.8944099 (54)\ttotal: 54.3s\tremaining: 13m 55s\n",
      "61:\tlearn: 0.9219166\ttest: 0.8951001\tbest: 0.8951001 (61)\ttotal: 55.2s\tremaining: 13m 54s\n",
      "62:\tlearn: 0.9222124\ttest: 0.8971705\tbest: 0.8971705 (62)\ttotal: 56s\tremaining: 13m 53s\n"
     ]
    }
   ],
   "source": [
    "model = CatBoostClassifier(\n",
    "    learning_rate=0.1,\n",
    "    random_seed=42,\n",
    "    loss_function='MultiClass',\n",
    "    thread_count=2,\n",
    "    verbose=True,\n",
    "    eval_metric='Accuracy',\n",
    "    iterations=1000\n",
    ")\n",
    "model.fit(\n",
    "    X_train, y_train,\n",
    "    cat_features=cat_features,\n",
    "    eval_set=(X_test, y_test),\n",
    "    verbose=True\n",
    ")\n",
    "print('Model is fitted: ' + str(model.is_fitted()))\n",
    "print('Model params:')\n",
    "print(model.get_params())"
   ]
  },
  {
   "cell_type": "code",
   "execution_count": 42,
   "outputs": [
    {
     "data": {
      "text/plain": "array([36.04293508,  0.56044242,  3.31884808,  5.40918437, 10.71270381,\n        4.08811521,  1.30022238, 27.71090073,  5.1310828 ,  5.72556513])"
     },
     "execution_count": 42,
     "metadata": {},
     "output_type": "execute_result"
    }
   ],
   "source": [
    "model.get_feature_importance()"
   ],
   "metadata": {
    "collapsed": false,
    "pycharm": {
     "name": "#%%\n"
    }
   }
  },
  {
   "cell_type": "code",
   "execution_count": null,
   "outputs": [],
   "source": [
    "import matplotlib.pyplot as plt\n",
    "import numpy as np\n",
    "\n",
    "feature_importance = model.get_feature_importance()\n",
    "sorted_idx = np.argsort(feature_importance)\n",
    "fig = plt.figure(figsize=(12, 15))\n",
    "plt.barh(range(len(sorted_idx)), feature_importance[sorted_idx], align='center')\n",
    "plt.yticks(range(len(sorted_idx)), np.array(X_test.columns)[sorted_idx])\n",
    "plt.title('Feature Importance')"
   ],
   "metadata": {
    "collapsed": false,
    "pycharm": {
     "name": "#%%\n",
     "is_executing": true
    }
   }
  },
  {
   "cell_type": "code",
   "execution_count": null,
   "outputs": [],
   "source": [
    "X_submission = drop_unused_cols(test_df)"
   ],
   "metadata": {
    "collapsed": false,
    "pycharm": {
     "name": "#%%\n",
     "is_executing": true
    }
   }
  },
  {
   "cell_type": "code",
   "execution_count": null,
   "outputs": [],
   "source": [
    "y_submission = model.predict(X_submission)"
   ],
   "metadata": {
    "collapsed": false,
    "pycharm": {
     "name": "#%%\n",
     "is_executing": true
    }
   }
  },
  {
   "cell_type": "code",
   "execution_count": 23,
   "outputs": [],
   "source": [
    "submission_df = test_df.copy()\n",
    "submission_df[\"crop\"] = y_submission\n",
    "submission_df = submission_df[[\"crop\"]]\n",
    "submission_df.to_csv(DATA_DIR + \"submission.csv\")"
   ],
   "metadata": {
    "collapsed": false,
    "pycharm": {
     "name": "#%%\n"
    }
   }
  },
  {
   "cell_type": "code",
   "execution_count": null,
   "outputs": [],
   "source": [],
   "metadata": {
    "collapsed": false,
    "pycharm": {
     "name": "#%%\n"
    }
   }
  }
 ],
 "metadata": {
  "kernelspec": {
   "display_name": "Python 3 (ipykernel)",
   "language": "python",
   "name": "python3"
  },
  "language_info": {
   "codemirror_mode": {
    "name": "ipython",
    "version": 3
   },
   "file_extension": ".py",
   "mimetype": "text/x-python",
   "name": "python",
   "nbconvert_exporter": "python",
   "pygments_lexer": "ipython3",
   "version": "3.10.7"
  }
 },
 "nbformat": 4,
 "nbformat_minor": 1
}