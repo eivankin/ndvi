{
 "cells": [
  {
   "cell_type": "markdown",
   "metadata": {
    "id": "fnE1_J-4dhSR",
    "pycharm": {
     "name": "#%% md\n"
    }
   },
   "source": [
    "## Загрузим нужные библиотеки"
   ]
  },
  {
   "cell_type": "code",
   "execution_count": 15,
   "metadata": {
    "id": "uaKzqUxsdjDa",
    "pycharm": {
     "name": "#%%\n"
    }
   },
   "outputs": [],
   "source": [
    "import pandas as pd\n",
    "from sklearn.model_selection import train_test_split\n",
    "from sklearn.ensemble import RandomForestClassifier\n",
    "import geopandas as gpd"
   ]
  },
  {
   "cell_type": "code",
   "execution_count": 16,
   "outputs": [],
   "source": [
    "from src.util import df_to_gdf, add_region, encode_region"
   ],
   "metadata": {
    "collapsed": false,
    "pycharm": {
     "name": "#%%\n"
    }
   }
  },
  {
   "cell_type": "code",
   "execution_count": 17,
   "outputs": [],
   "source": [
    "DATA_DIR = \"./data/\""
   ],
   "metadata": {
    "collapsed": false,
    "pycharm": {
     "name": "#%%\n"
    }
   }
  },
  {
   "cell_type": "code",
   "execution_count": 50,
   "metadata": {
    "id": "2scLoULoXkT0",
    "pycharm": {
     "name": "#%%\n"
    }
   },
   "outputs": [],
   "source": [
    "df = pd.read_csv(DATA_DIR + \"train_dataset_train.csv\")"
   ]
  },
  {
   "cell_type": "code",
   "execution_count": 19,
   "outputs": [],
   "source": [
    "df = df_to_gdf(df)\n",
    "regions = gpd.read_file(DATA_DIR + \"boundaries/admin_level_4.shp\", encoding='cp1251')\n",
    "regions = regions[[\"name_en\", \"geometry\"]]\n",
    "add_region(df, regions)\n",
    "encode_region(df)"
   ],
   "metadata": {
    "collapsed": false,
    "pycharm": {
     "name": "#%%\n"
    }
   }
  },
  {
   "cell_type": "code",
   "execution_count": 21,
   "metadata": {
    "colab": {
     "base_uri": "https://localhost:8080/",
     "height": 254
    },
    "id": "I16XfuOpXwIy",
    "outputId": "f44fbf10-f067-4716-9c1d-f4660753940e",
    "pycharm": {
     "name": "#%%\n"
    }
   },
   "outputs": [
    {
     "data": {
      "text/plain": "     id  area  nd_mean_2021-04-16  nd_mean_2021-04-19  nd_mean_2021-04-22  \\\n0  3536    20            0.072846            0.261778            0.062981   \n1  3739    45            0.332928            0.287182            0.097138   \n2  1294    28            0.013679            0.007055            0.120804   \n\n   nd_mean_2021-04-26  nd_mean_2021-04-28  nd_mean_2021-05-02  \\\n0            0.104442            0.021096            0.052202   \n1            0.152467            0.075484            0.000000   \n2            0.037839            0.259125            0.000000   \n\n   nd_mean_2021-05-04  nd_mean_2021-05-07  ...  nd_mean_2021-06-05  \\\n0            0.158723            0.000000  ...            0.000000   \n1            0.140326            0.163340  ...            0.000000   \n2            0.037446            0.506516  ...            0.210496   \n\n   nd_mean_2021-06-10  nd_mean_2021-07-05  nd_mean_2021-08-13  \\\n0            0.000000            0.026784            0.126832   \n1            0.000000            0.111148            0.174914   \n2            0.130467            0.155225            0.090607   \n\n   nd_mean_2021-08-27  nd_mean_2021-05-08  nd_mean_2021-05-24  crop  \\\n0            0.614770            0.008857            0.081498     3   \n1            0.179612            0.113071            0.046997     4   \n2            0.054127            0.007437            0.219614     2   \n\n                                            geometry  region  \n0  POLYGON ((42.49107 51.41404, 42.49111 51.41400...      13  \n1  POLYGON ((50.25545 56.60539, 50.25552 56.60523...      11  \n2  POLYGON ((37.99699 53.83590, 38.00572 53.83333...      12  \n\n[3 rows x 75 columns]",
      "text/html": "<div>\n<style scoped>\n    .dataframe tbody tr th:only-of-type {\n        vertical-align: middle;\n    }\n\n    .dataframe tbody tr th {\n        vertical-align: top;\n    }\n\n    .dataframe thead th {\n        text-align: right;\n    }\n</style>\n<table border=\"1\" class=\"dataframe\">\n  <thead>\n    <tr style=\"text-align: right;\">\n      <th></th>\n      <th>id</th>\n      <th>area</th>\n      <th>nd_mean_2021-04-16</th>\n      <th>nd_mean_2021-04-19</th>\n      <th>nd_mean_2021-04-22</th>\n      <th>nd_mean_2021-04-26</th>\n      <th>nd_mean_2021-04-28</th>\n      <th>nd_mean_2021-05-02</th>\n      <th>nd_mean_2021-05-04</th>\n      <th>nd_mean_2021-05-07</th>\n      <th>...</th>\n      <th>nd_mean_2021-06-05</th>\n      <th>nd_mean_2021-06-10</th>\n      <th>nd_mean_2021-07-05</th>\n      <th>nd_mean_2021-08-13</th>\n      <th>nd_mean_2021-08-27</th>\n      <th>nd_mean_2021-05-08</th>\n      <th>nd_mean_2021-05-24</th>\n      <th>crop</th>\n      <th>geometry</th>\n      <th>region</th>\n    </tr>\n  </thead>\n  <tbody>\n    <tr>\n      <th>0</th>\n      <td>3536</td>\n      <td>20</td>\n      <td>0.072846</td>\n      <td>0.261778</td>\n      <td>0.062981</td>\n      <td>0.104442</td>\n      <td>0.021096</td>\n      <td>0.052202</td>\n      <td>0.158723</td>\n      <td>0.000000</td>\n      <td>...</td>\n      <td>0.000000</td>\n      <td>0.000000</td>\n      <td>0.026784</td>\n      <td>0.126832</td>\n      <td>0.614770</td>\n      <td>0.008857</td>\n      <td>0.081498</td>\n      <td>3</td>\n      <td>POLYGON ((42.49107 51.41404, 42.49111 51.41400...</td>\n      <td>13</td>\n    </tr>\n    <tr>\n      <th>1</th>\n      <td>3739</td>\n      <td>45</td>\n      <td>0.332928</td>\n      <td>0.287182</td>\n      <td>0.097138</td>\n      <td>0.152467</td>\n      <td>0.075484</td>\n      <td>0.000000</td>\n      <td>0.140326</td>\n      <td>0.163340</td>\n      <td>...</td>\n      <td>0.000000</td>\n      <td>0.000000</td>\n      <td>0.111148</td>\n      <td>0.174914</td>\n      <td>0.179612</td>\n      <td>0.113071</td>\n      <td>0.046997</td>\n      <td>4</td>\n      <td>POLYGON ((50.25545 56.60539, 50.25552 56.60523...</td>\n      <td>11</td>\n    </tr>\n    <tr>\n      <th>2</th>\n      <td>1294</td>\n      <td>28</td>\n      <td>0.013679</td>\n      <td>0.007055</td>\n      <td>0.120804</td>\n      <td>0.037839</td>\n      <td>0.259125</td>\n      <td>0.000000</td>\n      <td>0.037446</td>\n      <td>0.506516</td>\n      <td>...</td>\n      <td>0.210496</td>\n      <td>0.130467</td>\n      <td>0.155225</td>\n      <td>0.090607</td>\n      <td>0.054127</td>\n      <td>0.007437</td>\n      <td>0.219614</td>\n      <td>2</td>\n      <td>POLYGON ((37.99699 53.83590, 38.00572 53.83333...</td>\n      <td>12</td>\n    </tr>\n  </tbody>\n</table>\n<p>3 rows × 75 columns</p>\n</div>"
     },
     "execution_count": 21,
     "metadata": {},
     "output_type": "execute_result"
    }
   ],
   "source": [
    "df.head(3)"
   ]
  },
  {
   "cell_type": "markdown",
   "metadata": {
    "id": "WIFh_dnOhj1V",
    "pycharm": {
     "name": "#%% md\n"
    }
   },
   "source": [
    "## Выделим выборки"
   ]
  },
  {
   "cell_type": "code",
   "execution_count": 51,
   "metadata": {
    "id": "mkCL9b-8hmZ1",
    "pycharm": {
     "name": "#%%\n"
    }
   },
   "outputs": [],
   "source": [
    "X = df.drop([\"id\",\".geo\", \"crop\"], axis = 1)\n",
    "y = df[[\"crop\"]]"
   ]
  },
  {
   "cell_type": "code",
   "source": [
    "X.head()"
   ],
   "metadata": {
    "colab": {
     "base_uri": "https://localhost:8080/",
     "height": 317
    },
    "id": "syYVXkxwl1IF",
    "outputId": "66c3a2e3-5cf6-440d-9517-4ec679f6799d",
    "pycharm": {
     "name": "#%%\n"
    }
   },
   "execution_count": 52,
   "outputs": [
    {
     "data": {
      "text/plain": "   area  nd_mean_2021-04-16  nd_mean_2021-04-19  nd_mean_2021-04-22  \\\n0    20            0.072846            0.261778            0.062981   \n1    45            0.332928            0.287182            0.097138   \n2    28            0.013679            0.007055            0.120804   \n3    19            0.105976            0.052500            0.001917   \n4    33            0.130885            0.063492            0.024416   \n\n   nd_mean_2021-04-26  nd_mean_2021-04-28  nd_mean_2021-05-02  \\\n0            0.104442            0.021096            0.052202   \n1            0.152467            0.075484            0.000000   \n2            0.037839            0.259125            0.000000   \n3            0.011531            0.042316            0.000000   \n4            0.000000            0.150671            0.046717   \n\n   nd_mean_2021-05-04  nd_mean_2021-05-07  nd_mean_2021-05-16  ...  \\\n0            0.158723            0.000000            0.484102  ...   \n1            0.140326            0.163340            0.519456  ...   \n2            0.037446            0.506516            0.000000  ...   \n3            0.000000            0.043604            0.510271  ...   \n4            0.254284            0.101479            0.000000  ...   \n\n   nd_mean_2021-05-19  nd_mean_2021-05-20  nd_mean_2021-06-04  \\\n0            0.425571            0.108999            0.118854   \n1            0.248935            0.134469            0.208268   \n2            0.127633            0.084467            0.000000   \n3            0.527583            0.000000            0.642226   \n4            0.000000            0.206158            0.099058   \n\n   nd_mean_2021-06-05  nd_mean_2021-06-10  nd_mean_2021-07-05  \\\n0            0.000000            0.000000            0.026784   \n1            0.000000            0.000000            0.111148   \n2            0.210496            0.130467            0.155225   \n3            0.132886            0.000000            0.570928   \n4            0.152003            0.073357            0.147842   \n\n   nd_mean_2021-08-13  nd_mean_2021-08-27  nd_mean_2021-05-08  \\\n0            0.126832            0.614770            0.008857   \n1            0.174914            0.179612            0.113071   \n2            0.090607            0.054127            0.007437   \n3            0.073492            0.378900            0.327677   \n4            0.157676            0.012048            0.054223   \n\n   nd_mean_2021-05-24  \n0            0.081498  \n1            0.046997  \n2            0.219614  \n3            0.586523  \n4            0.017539  \n\n[5 rows x 71 columns]",
      "text/html": "<div>\n<style scoped>\n    .dataframe tbody tr th:only-of-type {\n        vertical-align: middle;\n    }\n\n    .dataframe tbody tr th {\n        vertical-align: top;\n    }\n\n    .dataframe thead th {\n        text-align: right;\n    }\n</style>\n<table border=\"1\" class=\"dataframe\">\n  <thead>\n    <tr style=\"text-align: right;\">\n      <th></th>\n      <th>area</th>\n      <th>nd_mean_2021-04-16</th>\n      <th>nd_mean_2021-04-19</th>\n      <th>nd_mean_2021-04-22</th>\n      <th>nd_mean_2021-04-26</th>\n      <th>nd_mean_2021-04-28</th>\n      <th>nd_mean_2021-05-02</th>\n      <th>nd_mean_2021-05-04</th>\n      <th>nd_mean_2021-05-07</th>\n      <th>nd_mean_2021-05-16</th>\n      <th>...</th>\n      <th>nd_mean_2021-05-19</th>\n      <th>nd_mean_2021-05-20</th>\n      <th>nd_mean_2021-06-04</th>\n      <th>nd_mean_2021-06-05</th>\n      <th>nd_mean_2021-06-10</th>\n      <th>nd_mean_2021-07-05</th>\n      <th>nd_mean_2021-08-13</th>\n      <th>nd_mean_2021-08-27</th>\n      <th>nd_mean_2021-05-08</th>\n      <th>nd_mean_2021-05-24</th>\n    </tr>\n  </thead>\n  <tbody>\n    <tr>\n      <th>0</th>\n      <td>20</td>\n      <td>0.072846</td>\n      <td>0.261778</td>\n      <td>0.062981</td>\n      <td>0.104442</td>\n      <td>0.021096</td>\n      <td>0.052202</td>\n      <td>0.158723</td>\n      <td>0.000000</td>\n      <td>0.484102</td>\n      <td>...</td>\n      <td>0.425571</td>\n      <td>0.108999</td>\n      <td>0.118854</td>\n      <td>0.000000</td>\n      <td>0.000000</td>\n      <td>0.026784</td>\n      <td>0.126832</td>\n      <td>0.614770</td>\n      <td>0.008857</td>\n      <td>0.081498</td>\n    </tr>\n    <tr>\n      <th>1</th>\n      <td>45</td>\n      <td>0.332928</td>\n      <td>0.287182</td>\n      <td>0.097138</td>\n      <td>0.152467</td>\n      <td>0.075484</td>\n      <td>0.000000</td>\n      <td>0.140326</td>\n      <td>0.163340</td>\n      <td>0.519456</td>\n      <td>...</td>\n      <td>0.248935</td>\n      <td>0.134469</td>\n      <td>0.208268</td>\n      <td>0.000000</td>\n      <td>0.000000</td>\n      <td>0.111148</td>\n      <td>0.174914</td>\n      <td>0.179612</td>\n      <td>0.113071</td>\n      <td>0.046997</td>\n    </tr>\n    <tr>\n      <th>2</th>\n      <td>28</td>\n      <td>0.013679</td>\n      <td>0.007055</td>\n      <td>0.120804</td>\n      <td>0.037839</td>\n      <td>0.259125</td>\n      <td>0.000000</td>\n      <td>0.037446</td>\n      <td>0.506516</td>\n      <td>0.000000</td>\n      <td>...</td>\n      <td>0.127633</td>\n      <td>0.084467</td>\n      <td>0.000000</td>\n      <td>0.210496</td>\n      <td>0.130467</td>\n      <td>0.155225</td>\n      <td>0.090607</td>\n      <td>0.054127</td>\n      <td>0.007437</td>\n      <td>0.219614</td>\n    </tr>\n    <tr>\n      <th>3</th>\n      <td>19</td>\n      <td>0.105976</td>\n      <td>0.052500</td>\n      <td>0.001917</td>\n      <td>0.011531</td>\n      <td>0.042316</td>\n      <td>0.000000</td>\n      <td>0.000000</td>\n      <td>0.043604</td>\n      <td>0.510271</td>\n      <td>...</td>\n      <td>0.527583</td>\n      <td>0.000000</td>\n      <td>0.642226</td>\n      <td>0.132886</td>\n      <td>0.000000</td>\n      <td>0.570928</td>\n      <td>0.073492</td>\n      <td>0.378900</td>\n      <td>0.327677</td>\n      <td>0.586523</td>\n    </tr>\n    <tr>\n      <th>4</th>\n      <td>33</td>\n      <td>0.130885</td>\n      <td>0.063492</td>\n      <td>0.024416</td>\n      <td>0.000000</td>\n      <td>0.150671</td>\n      <td>0.046717</td>\n      <td>0.254284</td>\n      <td>0.101479</td>\n      <td>0.000000</td>\n      <td>...</td>\n      <td>0.000000</td>\n      <td>0.206158</td>\n      <td>0.099058</td>\n      <td>0.152003</td>\n      <td>0.073357</td>\n      <td>0.147842</td>\n      <td>0.157676</td>\n      <td>0.012048</td>\n      <td>0.054223</td>\n      <td>0.017539</td>\n    </tr>\n  </tbody>\n</table>\n<p>5 rows × 71 columns</p>\n</div>"
     },
     "execution_count": 52,
     "metadata": {},
     "output_type": "execute_result"
    }
   ]
  },
  {
   "cell_type": "markdown",
   "metadata": {
    "id": "60NotS9ehbO5",
    "pycharm": {
     "name": "#%% md\n"
    }
   },
   "source": [
    "## Обучение модели"
   ]
  },
  {
   "cell_type": "code",
   "execution_count": 53,
   "metadata": {
    "id": "NfIOX9Lbik_i",
    "pycharm": {
     "name": "#%%\n"
    }
   },
   "outputs": [],
   "source": [
    "X_train, X_test, y_train, y_test = train_test_split(X, y, test_size=0.3, random_state=42)"
   ]
  },
  {
   "cell_type": "code",
   "execution_count": 69,
   "metadata": {
    "id": "jc-KKFlWf6_N",
    "pycharm": {
     "name": "#%%\n"
    }
   },
   "outputs": [],
   "source": [
    "clf = RandomForestClassifier(random_state=42, n_estimators=200)"
   ]
  },
  {
   "cell_type": "code",
   "execution_count": 70,
   "metadata": {
    "colab": {
     "base_uri": "https://localhost:8080/"
    },
    "id": "bc8JAH4yf7Bs",
    "outputId": "4b49b98f-4811-4058-96fd-a3f23b3ab74e",
    "pycharm": {
     "name": "#%%\n"
    }
   },
   "outputs": [
    {
     "name": "stderr",
     "output_type": "stream",
     "text": [
      "/tmp/ipykernel_5194/533357445.py:1: DataConversionWarning: A column-vector y was passed when a 1d array was expected. Please change the shape of y to (n_samples,), for example using ravel().\n",
      "  clf.fit(X_train, y_train)\n"
     ]
    },
    {
     "data": {
      "text/plain": "RandomForestClassifier(n_estimators=200, random_state=42)",
      "text/html": "<style>#sk-container-id-16 {color: black;background-color: white;}#sk-container-id-16 pre{padding: 0;}#sk-container-id-16 div.sk-toggleable {background-color: white;}#sk-container-id-16 label.sk-toggleable__label {cursor: pointer;display: block;width: 100%;margin-bottom: 0;padding: 0.3em;box-sizing: border-box;text-align: center;}#sk-container-id-16 label.sk-toggleable__label-arrow:before {content: \"▸\";float: left;margin-right: 0.25em;color: #696969;}#sk-container-id-16 label.sk-toggleable__label-arrow:hover:before {color: black;}#sk-container-id-16 div.sk-estimator:hover label.sk-toggleable__label-arrow:before {color: black;}#sk-container-id-16 div.sk-toggleable__content {max-height: 0;max-width: 0;overflow: hidden;text-align: left;background-color: #f0f8ff;}#sk-container-id-16 div.sk-toggleable__content pre {margin: 0.2em;color: black;border-radius: 0.25em;background-color: #f0f8ff;}#sk-container-id-16 input.sk-toggleable__control:checked~div.sk-toggleable__content {max-height: 200px;max-width: 100%;overflow: auto;}#sk-container-id-16 input.sk-toggleable__control:checked~label.sk-toggleable__label-arrow:before {content: \"▾\";}#sk-container-id-16 div.sk-estimator input.sk-toggleable__control:checked~label.sk-toggleable__label {background-color: #d4ebff;}#sk-container-id-16 div.sk-label input.sk-toggleable__control:checked~label.sk-toggleable__label {background-color: #d4ebff;}#sk-container-id-16 input.sk-hidden--visually {border: 0;clip: rect(1px 1px 1px 1px);clip: rect(1px, 1px, 1px, 1px);height: 1px;margin: -1px;overflow: hidden;padding: 0;position: absolute;width: 1px;}#sk-container-id-16 div.sk-estimator {font-family: monospace;background-color: #f0f8ff;border: 1px dotted black;border-radius: 0.25em;box-sizing: border-box;margin-bottom: 0.5em;}#sk-container-id-16 div.sk-estimator:hover {background-color: #d4ebff;}#sk-container-id-16 div.sk-parallel-item::after {content: \"\";width: 100%;border-bottom: 1px solid gray;flex-grow: 1;}#sk-container-id-16 div.sk-label:hover label.sk-toggleable__label {background-color: #d4ebff;}#sk-container-id-16 div.sk-serial::before {content: \"\";position: absolute;border-left: 1px solid gray;box-sizing: border-box;top: 0;bottom: 0;left: 50%;z-index: 0;}#sk-container-id-16 div.sk-serial {display: flex;flex-direction: column;align-items: center;background-color: white;padding-right: 0.2em;padding-left: 0.2em;position: relative;}#sk-container-id-16 div.sk-item {position: relative;z-index: 1;}#sk-container-id-16 div.sk-parallel {display: flex;align-items: stretch;justify-content: center;background-color: white;position: relative;}#sk-container-id-16 div.sk-item::before, #sk-container-id-16 div.sk-parallel-item::before {content: \"\";position: absolute;border-left: 1px solid gray;box-sizing: border-box;top: 0;bottom: 0;left: 50%;z-index: -1;}#sk-container-id-16 div.sk-parallel-item {display: flex;flex-direction: column;z-index: 1;position: relative;background-color: white;}#sk-container-id-16 div.sk-parallel-item:first-child::after {align-self: flex-end;width: 50%;}#sk-container-id-16 div.sk-parallel-item:last-child::after {align-self: flex-start;width: 50%;}#sk-container-id-16 div.sk-parallel-item:only-child::after {width: 0;}#sk-container-id-16 div.sk-dashed-wrapped {border: 1px dashed gray;margin: 0 0.4em 0.5em 0.4em;box-sizing: border-box;padding-bottom: 0.4em;background-color: white;}#sk-container-id-16 div.sk-label label {font-family: monospace;font-weight: bold;display: inline-block;line-height: 1.2em;}#sk-container-id-16 div.sk-label-container {text-align: center;}#sk-container-id-16 div.sk-container {/* jupyter's `normalize.less` sets `[hidden] { display: none; }` but bootstrap.min.css set `[hidden] { display: none !important; }` so we also need the `!important` here to be able to override the default hidden behavior on the sphinx rendered scikit-learn.org. See: https://github.com/scikit-learn/scikit-learn/issues/21755 */display: inline-block !important;position: relative;}#sk-container-id-16 div.sk-text-repr-fallback {display: none;}</style><div id=\"sk-container-id-16\" class=\"sk-top-container\"><div class=\"sk-text-repr-fallback\"><pre>RandomForestClassifier(n_estimators=200, random_state=42)</pre><b>In a Jupyter environment, please rerun this cell to show the HTML representation or trust the notebook. <br />On GitHub, the HTML representation is unable to render, please try loading this page with nbviewer.org.</b></div><div class=\"sk-container\" hidden><div class=\"sk-item\"><div class=\"sk-estimator sk-toggleable\"><input class=\"sk-toggleable__control sk-hidden--visually\" id=\"sk-estimator-id-16\" type=\"checkbox\" checked><label for=\"sk-estimator-id-16\" class=\"sk-toggleable__label sk-toggleable__label-arrow\">RandomForestClassifier</label><div class=\"sk-toggleable__content\"><pre>RandomForestClassifier(n_estimators=200, random_state=42)</pre></div></div></div></div></div>"
     },
     "execution_count": 70,
     "metadata": {},
     "output_type": "execute_result"
    }
   ],
   "source": [
    "clf.fit(X_train, y_train)"
   ]
  },
  {
   "cell_type": "markdown",
   "metadata": {
    "id": "6Y60HHS5jKeN",
    "pycharm": {
     "name": "#%% md\n"
    }
   },
   "source": [
    "## Оценка точности"
   ]
  },
  {
   "cell_type": "code",
   "execution_count": 71,
   "outputs": [
    {
     "name": "stdout",
     "output_type": "stream",
     "text": [
      "RandomForestClassifier(n_estimators=200, random_state=42) \n",
      " 0.965580789035347\n"
     ]
    }
   ],
   "source": [
    "from sklearn.metrics import recall_score\n",
    "\n",
    "pred = clf.predict(X_test)\n",
    "print(clf,'\\n',recall_score(y_test, pred, average=\"macro\", zero_division=0))"
   ],
   "metadata": {
    "collapsed": false,
    "pycharm": {
     "name": "#%%\n"
    }
   }
  },
  {
   "cell_type": "code",
   "execution_count": 76,
   "outputs": [],
   "source": [
    "test_df = pd.read_csv(DATA_DIR + \"test_dataset_test.csv\")"
   ],
   "metadata": {
    "collapsed": false,
    "pycharm": {
     "name": "#%%\n"
    }
   }
  },
  {
   "cell_type": "code",
   "execution_count": 77,
   "outputs": [],
   "source": [
    "X_submission = test_df.drop([\"id\",\".geo\"], axis = 1)\n",
    "y_submission = clf.predict(X_submission)"
   ],
   "metadata": {
    "collapsed": false,
    "pycharm": {
     "name": "#%%\n"
    }
   }
  },
  {
   "cell_type": "code",
   "execution_count": 79,
   "outputs": [
    {
     "data": {
      "text/plain": "      crop\nid        \n611      3\n6417     2\n3352     3\n4224     1\n3102     6",
      "text/html": "<div>\n<style scoped>\n    .dataframe tbody tr th:only-of-type {\n        vertical-align: middle;\n    }\n\n    .dataframe tbody tr th {\n        vertical-align: top;\n    }\n\n    .dataframe thead th {\n        text-align: right;\n    }\n</style>\n<table border=\"1\" class=\"dataframe\">\n  <thead>\n    <tr style=\"text-align: right;\">\n      <th></th>\n      <th>crop</th>\n    </tr>\n    <tr>\n      <th>id</th>\n      <th></th>\n    </tr>\n  </thead>\n  <tbody>\n    <tr>\n      <th>611</th>\n      <td>3</td>\n    </tr>\n    <tr>\n      <th>6417</th>\n      <td>2</td>\n    </tr>\n    <tr>\n      <th>3352</th>\n      <td>3</td>\n    </tr>\n    <tr>\n      <th>4224</th>\n      <td>1</td>\n    </tr>\n    <tr>\n      <th>3102</th>\n      <td>6</td>\n    </tr>\n  </tbody>\n</table>\n</div>"
     },
     "execution_count": 79,
     "metadata": {},
     "output_type": "execute_result"
    }
   ],
   "source": [
    "submission_df = test_df.copy().set_index(\"id\")\n",
    "submission_df[\"crop\"] = y_submission\n",
    "submission_df = submission_df[[\"crop\"]]\n",
    "submission_df.head()"
   ],
   "metadata": {
    "collapsed": false,
    "pycharm": {
     "name": "#%%\n"
    }
   }
  },
  {
   "cell_type": "code",
   "execution_count": 80,
   "outputs": [],
   "source": [
    "submission_df.to_csv(DATA_DIR + \"submission.csv\")"
   ],
   "metadata": {
    "collapsed": false,
    "pycharm": {
     "name": "#%%\n"
    }
   }
  },
  {
   "cell_type": "code",
   "execution_count": null,
   "outputs": [],
   "source": [],
   "metadata": {
    "collapsed": false,
    "pycharm": {
     "name": "#%%\n"
    }
   }
  }
 ],
 "metadata": {
  "colab": {
   "provenance": []
  },
  "kernelspec": {
   "display_name": "Python 3",
   "name": "python3"
  },
  "language_info": {
   "name": "python"
  }
 },
 "nbformat": 4,
 "nbformat_minor": 0
}